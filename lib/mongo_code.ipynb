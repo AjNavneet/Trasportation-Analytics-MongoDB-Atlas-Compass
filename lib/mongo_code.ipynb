{
  "cells": [
    {
      "cell_type": "code",
      "execution_count": 1,
      "metadata": {
        "colab": {
          "base_uri": "https://localhost:8080/"
        },
        "collapsed": true,
        "id": "KS1JkBZBPwTA",
        "outputId": "f138d3df-06a8-404d-b2d7-f6cfd4ddf5f3"
      },
      "outputs": [
        {
          "name": "stdout",
          "output_type": "stream",
          "text": [
            "Looking in indexes: https://pypi.org/simple, https://us-python.pkg.dev/colab-wheels/public/simple/\n",
            "Collecting python-dotenv\n",
            "  Downloading python_dotenv-0.21.1-py3-none-any.whl (19 kB)\n",
            "Installing collected packages: python-dotenv\n",
            "Successfully installed python-dotenv-0.21.1\n",
            "Looking in indexes: https://pypi.org/simple, https://us-python.pkg.dev/colab-wheels/public/simple/\n",
            "Requirement already satisfied: pymongo[srv] in /usr/local/lib/python3.8/dist-packages (4.3.3)\n",
            "Requirement already satisfied: dnspython<3.0.0,>=1.16.0 in /usr/local/lib/python3.8/dist-packages (from pymongo[srv]) (2.2.1)\n",
            "Looking in indexes: https://pypi.org/simple, https://us-python.pkg.dev/colab-wheels/public/simple/\n",
            "Requirement already satisfied: pandas in /usr/local/lib/python3.8/dist-packages (1.3.5)\n",
            "Requirement already satisfied: pytz>=2017.3 in /usr/local/lib/python3.8/dist-packages (from pandas) (2022.7)\n",
            "Requirement already satisfied: numpy>=1.17.3 in /usr/local/lib/python3.8/dist-packages (from pandas) (1.21.6)\n",
            "Requirement already satisfied: python-dateutil>=2.7.3 in /usr/local/lib/python3.8/dist-packages (from pandas) (2.8.2)\n",
            "Requirement already satisfied: six>=1.5 in /usr/local/lib/python3.8/dist-packages (from python-dateutil>=2.7.3->pandas) (1.15.0)\n"
          ]
        }
      ],
      "source": [
        "# Install libraries\n",
        "!pip install python-dotenv\n",
        "!pip install pymongo[srv]\n",
        "!pip install pandas"
      ]
    },
    {
      "cell_type": "code",
      "execution_count": 2,
      "metadata": {
        "colab": {
          "base_uri": "https://localhost:8080/"
        },
        "collapsed": true,
        "id": "be2ZWRqmP19K",
        "outputId": "388aecbb-f205-427e-ff4d-9eadb2cccdaa"
      },
      "outputs": [
        {
          "data": {
            "text/plain": [
              "True"
            ]
          },
          "execution_count": 2,
          "metadata": {},
          "output_type": "execute_result"
        }
      ],
      "source": [
        "# Import necessary modules\n",
        "from dotenv import load_dotenv\n",
        "from datetime import datetime\n",
        "from pprint import pprint\n",
        "import pandas as pd\n",
        "import os\n",
        "import bson\n",
        "import pymongo\n",
        "\n",
        "load_dotenv()"
      ]
    },
    {
      "cell_type": "code",
      "execution_count": 3,
      "metadata": {
        "colab": {
          "base_uri": "https://localhost:8080/"
        },
        "collapsed": true,
        "id": "CCRunYOKYKVg",
        "outputId": "8e073a57-3843-4e65-b001-4c377ba38085"
      },
      "outputs": [
        {
          "name": "stdout",
          "output_type": "stream",
          "text": [
            "4.3.3\n"
          ]
        }
      ],
      "source": [
        "print(pymongo.__version__)"
      ]
    },
    {
      "cell_type": "code",
      "execution_count": 4,
      "metadata": {
        "id": "n7PmMLHbP-bN"
      },
      "outputs": [],
      "source": [
        "# Connect to mongoDB\n",
        "\n",
        "client = pymongo.MongoClient(os.environ.get(\"CONN_STRING\"))"
      ]
    },
    {
      "cell_type": "code",
      "execution_count": 5,
      "metadata": {
        "colab": {
          "base_uri": "https://localhost:8080/"
        },
        "collapsed": true,
        "id": "23Q-s_YoYZWZ",
        "outputId": "c30b1aa3-bdfd-4675-811a-c0dafee369ea"
      },
      "outputs": [
        {
          "name": "stdout",
          "output_type": "stream",
          "text": [
            "('ac-tzhuuxz-shard-00-01.edbfm1z.mongodb.net', 27017)\n"
          ]
        }
      ],
      "source": [
        "print(client.primary)"
      ]
    },
    {
      "cell_type": "code",
      "execution_count": 6,
      "metadata": {
        "colab": {
          "base_uri": "https://localhost:8080/"
        },
        "collapsed": true,
        "id": "GUgODaDoYxhx",
        "outputId": "9a6aec7b-d567-4941-d797-e90f21326a48"
      },
      "outputs": [
        {
          "name": "stdout",
          "output_type": "stream",
          "text": [
            "{('ac-tzhuuxz-shard-00-02.edbfm1z.mongodb.net', 27017), ('ac-tzhuuxz-shard-00-00.edbfm1z.mongodb.net', 27017)}\n"
          ]
        }
      ],
      "source": [
        "print(client.secondaries)"
      ]
    },
    {
      "cell_type": "code",
      "execution_count": 7,
      "metadata": {
        "colab": {
          "base_uri": "https://localhost:8080/"
        },
        "collapsed": true,
        "id": "buZ9aCeoY4VX",
        "outputId": "da389c1d-9809-417c-d113-b687dbc29efe"
      },
      "outputs": [
        {
          "data": {
            "text/plain": [
              "['ETA_Trucks', 'admin', 'local']"
            ]
          },
          "execution_count": 7,
          "metadata": {},
          "output_type": "execute_result"
        }
      ],
      "source": [
        "client.list_database_names()"
      ]
    },
    {
      "cell_type": "code",
      "execution_count": 5,
      "metadata": {
        "id": "F7phuK5tZSn0"
      },
      "outputs": [],
      "source": [
        "# Connect to Database\n",
        "\n",
        "db = client['ETA_Trucks']"
      ]
    },
    {
      "cell_type": "code",
      "execution_count": 9,
      "metadata": {
        "colab": {
          "base_uri": "https://localhost:8080/"
        },
        "collapsed": true,
        "id": "NzSF4679cWbS",
        "outputId": "c8dc4c12-585a-4e05-a233-4afa1ebb9114"
      },
      "outputs": [
        {
          "data": {
            "text/plain": [
              "['truck_schedule_details',\n",
              " 'truck_details',\n",
              " 'driver_details',\n",
              " 'route_details',\n",
              " 'city_details']"
            ]
          },
          "execution_count": 9,
          "metadata": {},
          "output_type": "execute_result"
        }
      ],
      "source": [
        "db.list_collection_names()"
      ]
    },
    {
      "cell_type": "code",
      "execution_count": 10,
      "metadata": {
        "colab": {
          "base_uri": "https://localhost:8080/"
        },
        "collapsed": true,
        "id": "k62I40SdcaaS",
        "outputId": "f108b434-4f3f-4767-d9ae-9fe7df6d4ac1"
      },
      "outputs": [
        {
          "data": {
            "text/plain": [
              "{'_id': ObjectId('63cf28c750cce1d3ca60f9f9'),\n",
              " 'city_id': 1,\n",
              " 'name': 'Alabama',\n",
              " 'lat': 42.998,\n",
              " 'lon': -78.185}"
            ]
          },
          "execution_count": 10,
          "metadata": {},
          "output_type": "execute_result"
        }
      ],
      "source": [
        "# Find a single document in the \"city_details\" collection where the \"name\" is equal to \"Alabama\"\n",
        "filter = {'name': {\"$eq\": \"Alabama\"}}\n",
        "\n",
        "# Find and print the matching document\n",
        "db.city_details.find_one(filter)\n"
      ]
    },
    {
      "cell_type": "code",
      "execution_count": 11,
      "metadata": {
        "colab": {
          "base_uri": "https://localhost:8080/"
        },
        "collapsed": true,
        "id": "8RiceOlcc0sz",
        "outputId": "0da3f9b6-7280-45f5-c88f-0125889a99ec"
      },
      "outputs": [
        {
          "data": {
            "text/plain": [
              "{'_id': ObjectId('63cf28c750cce1d3ca60f9fe'),\n",
              " 'city_id': 6,\n",
              " 'name': 'Colorado Springs',\n",
              " 'lat': 38.834,\n",
              " 'lon': -104.821}"
            ]
          },
          "execution_count": 11,
          "metadata": {},
          "output_type": "execute_result"
        }
      ],
      "source": [
        "# Find a document in the \"city_details\" collection using the specified ObjectId\n",
        "filter = {\"_id\": bson.ObjectId('63cf28c750cce1d3ca60f9fe')}\n",
        "\n",
        "# Find and print the matching document\n",
        "db.city_details.find_one(filter)\n"
      ]
    },
    {
      "cell_type": "code",
      "execution_count": 13,
      "metadata": {
        "colab": {
          "base_uri": "https://localhost:8080/"
        },
        "collapsed": true,
        "id": "aLF-Oy3AdtXJ",
        "outputId": "ed15136a-bec0-4a7d-dd2d-1001da32d7c6"
      },
      "outputs": [
        {
          "name": "stdout",
          "output_type": "stream",
          "text": [
            "{'load_capacity_pounds': 20000,\n",
            " 'mileage_mpg': 29,\n",
            " 'truck_age': 13,\n",
            " 'truck_id': '7590026a0d2a4c1d8bfe7426765c260b'}\n",
            "\n",
            "\n",
            "{'load_capacity_pounds': 20000,\n",
            " 'mileage_mpg': 28,\n",
            " 'truck_age': 13,\n",
            " 'truck_id': '4d8ed7b8fab346b1b057a21f332a343e'}\n",
            "\n",
            "\n",
            "{'load_capacity_pounds': 20000,\n",
            " 'mileage_mpg': 28,\n",
            " 'truck_age': 13,\n",
            " 'truck_id': '55c5b1edae2c47e6a4e4bade3835f610'}\n",
            "\n",
            "\n",
            "{'load_capacity_pounds': 20000,\n",
            " 'mileage_mpg': 28,\n",
            " 'truck_age': 13,\n",
            " 'truck_id': '0ad2682b55b84d91868d9528226f3aaf'}\n",
            "\n",
            "\n",
            "{'load_capacity_pounds': 20000,\n",
            " 'mileage_mpg': 28,\n",
            " 'truck_age': 13,\n",
            " 'truck_id': '7b74e1f38e694880b4723fe38b396fb0'}\n",
            "\n",
            "\n",
            "CPU times: user 6.54 ms, sys: 1.26 ms, total: 7.8 ms\n",
            "Wall time: 394 ms\n"
          ]
        }
      ],
      "source": [
        "# Find the most efficient diesel trucks with age greater than 12\n",
        "filter = {\n",
        "    \"fuel_type\": 'diesel',\n",
        "    \"truck_age\": {\"$gt\": 12}\n",
        "}\n",
        "\n",
        "# Define projection to exclude '_id' and 'fuel_type' from the result\n",
        "projection = {\"_id\": 0, \"fuel_type\": 0}\n",
        "\n",
        "# Define sorting sequence for the result\n",
        "sort_seq = [\n",
        "    (\"truck_age\", pymongo.ASCENDING),\n",
        "    (\"load_capacity_pounds\", pymongo.DESCENDING),\n",
        "    (\"mileage_mpg\", pymongo.DESCENDING)\n",
        "]\n",
        "\n",
        "# Find and print the top 5 matching documents, sorted accordingly\n",
        "result = db.truck_details.find(filter, projection).sort(sort_seq).limit(5)\n",
        "\n",
        "for i in result:\n",
        "    pprint(i)\n",
        "    print(\"\\n\")\n"
      ]
    },
    {
      "cell_type": "code",
      "execution_count": 23,
      "metadata": {
        "colab": {
          "base_uri": "https://localhost:8080/"
        },
        "collapsed": true,
        "id": "LHAVVGwreU0u",
        "outputId": "377e9257-85f6-4f50-b3bc-16b9140e6b7a"
      },
      "outputs": [
        {
          "name": "stdout",
          "output_type": "stream",
          "text": [
            "20389\n",
            "{'_id': ObjectId('63cf2c1050cce1d3ca66fae2'),\n",
            " 'age': 39,\n",
            " 'driver_id': '76a283a440aa4799a87086b24a65f1db',\n",
            " 'driving_style': 'proactive',\n",
            " 'experience': 11,\n",
            " 'gender': 'male',\n",
            " 'name': 'Michael Mcconnell',\n",
            " 'ratings': 5,\n",
            " 'vehicle_no': 'a7022bf811ed40ef911d775c9da1ca9e'}\n",
            "\n",
            "\n",
            "{'_id': ObjectId('63cf2c0650cce1d3ca66c547'),\n",
            " 'age': 40,\n",
            " 'driver_id': '046ad46921104e6db54d1a2399a7944f',\n",
            " 'driving_style': 'proactive',\n",
            " 'experience': 11,\n",
            " 'gender': 'male',\n",
            " 'name': 'Andrew Forbes',\n",
            " 'ratings': 5,\n",
            " 'vehicle_no': '254869b1ffac41feae6790037ed12844'}\n",
            "\n",
            "\n",
            "{'_id': ObjectId('63cf2bec50cce1d3ca662b18'),\n",
            " 'age': 40,\n",
            " 'driver_id': '843f66e8bcf2479e9997a50603cb7a97',\n",
            " 'driving_style': 'proactive',\n",
            " 'experience': 11,\n",
            " 'gender': 'male',\n",
            " 'name': 'Scott Johnson',\n",
            " 'ratings': 5,\n",
            " 'vehicle_no': '1efbcb288cb843c4bc0ff7b941ca5b70'}\n",
            "\n",
            "\n",
            "{'_id': ObjectId('63cf2b8550cce1d3ca64148c'),\n",
            " 'age': 41,\n",
            " 'driver_id': '4780d7706490482ca19e4f5ed1dbba81',\n",
            " 'driving_style': 'proactive',\n",
            " 'experience': 22,\n",
            " 'gender': 'male',\n",
            " 'name': 'Ronald Weaver',\n",
            " 'ratings': 5,\n",
            " 'vehicle_no': '2c6ab31c1e0e4420b712e3be274f0f5d'}\n",
            "\n",
            "\n",
            "{'_id': ObjectId('63cf2b8550cce1d3ca641622'),\n",
            " 'age': 41,\n",
            " 'driver_id': '1e6aebc5664045f59a0eee384848a1dc',\n",
            " 'driving_style': 'proactive',\n",
            " 'experience': 12,\n",
            " 'gender': 'male',\n",
            " 'name': 'Daniel Ford',\n",
            " 'ratings': 5,\n",
            " 'vehicle_no': 'af1329758f6844b2937bdbcd808c717c'}\n",
            "\n",
            "\n"
          ]
        }
      ],
      "source": [
        "# Count the number of documents for young, proactive, male drivers reliable for long distances\n",
        "filter = {\n",
        "    \"$and\": [\n",
        "        {\"gender\": \"male\"},\n",
        "        {\"experience\": {\"$gt\": 10}},\n",
        "        {\"driving_style\": {\"$in\": [\"proactive\"]}}\n",
        "    ],\n",
        "    \"$or\": [\n",
        "        {\"$and\": [\n",
        "            {\"age\": {\"$gte\": 35}},\n",
        "            {\"age\": {\"$lte\": 45}}\n",
        "        ]},\n",
        "        {\"ratings\": {\"$gt\": 4}}\n",
        "    ]\n",
        "}\n",
        "\n",
        "# Print the count of matching documents\n",
        "print(db.driver_details.count_documents(filter))\n",
        "\n",
        "# Define sorting sequence for the result\n",
        "sort_seq = [(\"ratings\", -1), (\"age\", 1)]\n",
        "\n",
        "# Find and print the top 5 matching documents, sorted accordingly\n",
        "result = db.driver_details.find(filter).sort(sort_seq).limit(5)\n",
        "\n",
        "for i in result:\n",
        "    pprint(i)\n",
        "    print(\"\\n\")\n"
      ]
    },
    {
      "cell_type": "code",
      "execution_count": 24,
      "metadata": {
        "colab": {
          "base_uri": "https://localhost:8080/"
        },
        "collapsed": true,
        "id": "tzCUcJEneWme",
        "outputId": "256cebd0-2587-4b96-d273-b2e13790a29c"
      },
      "outputs": [
        {
          "name": "stdout",
          "output_type": "stream",
          "text": [
            "{'_id': ObjectId('63cf2b8450cce1d3ca6410a1'),\n",
            " 'age': 41,\n",
            " 'driver_id': '40287c65b040442f899c0affbcad207a',\n",
            " 'driving_style': 'proactive',\n",
            " 'experience': 22,\n",
            " 'gender': 'male',\n",
            " 'name': 'Tyler Saunders',\n",
            " 'ratings': 3.3,\n",
            " 'vehicle_no': '765d4022c30848c3a4517f003d2689e7'}\n",
            "{'_id': ObjectId('63cf2b8450cce1d3ca6410ff'),\n",
            " 'age': 51,\n",
            " 'driver_id': 'd0f65590f84c42a697db283a6795666c',\n",
            " 'driving_style': 'proactive',\n",
            " 'experience': 12,\n",
            " 'gender': 'male',\n",
            " 'name': 'Tyler Johnson',\n",
            " 'ratings': 2.9,\n",
            " 'vehicle_no': 'f1080c451a90403c97e2db8699c26c3f'}\n"
          ]
        }
      ],
      "source": [
        "# Find documents in the \"driver_details\" collection where the first name starts with \"Tyler\" using regex\n",
        "filter = {\"name\": {\"$regex\": \"^Tyler .*\", \"$options\": 'ms'}}\n",
        "\n",
        "# Limit the result to 2 documents\n",
        "result = db.driver_details.find(filter).limit(2)\n",
        "\n",
        "# 'm' for caret(^) - startWith, $ - endWith\n",
        "# 's' for period(.) - all characters\n",
        "\n",
        "# Print the matching documents\n",
        "for i in result:\n",
        "    pprint(i)\n"
      ]
    },
    {
      "cell_type": "code",
      "execution_count": 25,
      "metadata": {
        "colab": {
          "base_uri": "https://localhost:8080/"
        },
        "collapsed": true,
        "id": "J3um8bLyUu37",
        "outputId": "a1339d81-6655-408c-a5cd-fc53f3c46bbf"
      },
      "outputs": [
        {
          "name": "stdout",
          "output_type": "stream",
          "text": [
            "{'_id': ObjectId('63cf2b8450cce1d3ca64138c'),\n",
            " 'age': 44,\n",
            " 'driver_id': 'e7bb0b7942994e7d8eed9a8639e63713',\n",
            " 'driving_style': 'conservative',\n",
            " 'experience': 14,\n",
            " 'gender': 'male',\n",
            " 'name': 'Tyler Dean',\n",
            " 'ratings': 4.4,\n",
            " 'vehicle_no': 'ccd30d82a450492884cd0ce67814ea49'}\n",
            "{'_id': ObjectId('63cf2b8550cce1d3ca641704'),\n",
            " 'age': 46,\n",
            " 'driver_id': '7bef3146c7ee4a7593e013334e0d2cd2',\n",
            " 'driving_style': 'proactive',\n",
            " 'experience': 14,\n",
            " 'gender': 'male',\n",
            " 'name': 'Robert Dean',\n",
            " 'ratings': 1.5,\n",
            " 'vehicle_no': 'a3604250716849caad7fb71f40872d59'}\n"
          ]
        }
      ],
      "source": [
        "# Find documents in the \"driver_details\" collection where the last name ends with \"Dean\" using regex\n",
        "filter = {\"name\": {\"$regex\": \".* Dean$\", \"$options\": 'ms'}}\n",
        "\n",
        "# Limit the result to 2 documents\n",
        "result = db.driver_details.find(filter).limit(2)\n",
        "\n",
        "# Print the matching documents\n",
        "for i in result:\n",
        "    pprint(i)\n"
      ]
    },
    {
      "cell_type": "code",
      "execution_count": 26,
      "metadata": {
        "colab": {
          "base_uri": "https://localhost:8080/"
        },
        "collapsed": true,
        "id": "5weeYGJWiLDI",
        "outputId": "550fac41-1924-4b0e-8932-2d87374d1aa3"
      },
      "outputs": [
        {
          "data": {
            "text/plain": [
              "<pymongo.results.UpdateResult at 0x7f4daee189d0>"
            ]
          },
          "execution_count": 26,
          "metadata": {},
          "output_type": "execute_result"
        }
      ],
      "source": [
        "# Update a document in the \"truck_details\" collection by setting the \"fines\" field to a new list\n",
        "filter = {\"truck_id\": \"2f0705c938e545a0aa03c505ec97751d\"}\n",
        "\n",
        "update = {\n",
        "    \"$set\": {\n",
        "        \"fines\": [\n",
        "            {\n",
        "                \"date\": datetime.utcnow(),\n",
        "                \"amount\": 500,\n",
        "                \"reason\": \"Speed Limit\",\n",
        "                \"driver_id\": \"c3173876aeac4604863da23d0a90f6f3\"\n",
        "            }\n",
        "        ]\n",
        "    }\n",
        "}\n",
        "\n",
        "# Update a single document using update_one\n",
        "db.truck_details.update_one(filter, update)\n"
      ]
    },
    {
      "cell_type": "code",
      "execution_count": 27,
      "metadata": {
        "colab": {
          "base_uri": "https://localhost:8080/"
        },
        "collapsed": true,
        "id": "R8105F7Rnc4x",
        "outputId": "f4c00deb-adbf-44ac-89b0-6e55b3f73c94"
      },
      "outputs": [
        {
          "data": {
            "text/plain": [
              "<pymongo.results.UpdateResult at 0x7f4db4e1aa90>"
            ]
          },
          "execution_count": 27,
          "metadata": {},
          "output_type": "execute_result"
        }
      ],
      "source": [
        "# Update a document in the \"truck_details\" collection by pushing a new element to the \"fines\" list\n",
        "filter = {\"truck_id\": \"2f0705c938e545a0aa03c505ec97751d\"}\n",
        "\n",
        "update = {\n",
        "    \"$push\": {\n",
        "        \"fines\": {\n",
        "            \"date\": datetime.utcnow(),\n",
        "            \"amount\": 5000,\n",
        "            \"reason\": \"Red Light Crossed\",\n",
        "            \"driver_id\": \"c3173876aeac4604863da23d0a90f6f3\"\n",
        "        }\n",
        "    }\n",
        "}\n",
        "\n",
        "# Update a single document using update_one\n",
        "db.truck_details.update_one(filter, update)\n"
      ]
    },
    {
      "cell_type": "code",
      "execution_count": 28,
      "metadata": {
        "colab": {
          "base_uri": "https://localhost:8080/"
        },
        "collapsed": true,
        "id": "iFZkUTF3oH9C",
        "outputId": "65a2b915-263f-4d94-8678-27d907c7b12a"
      },
      "outputs": [
        {
          "data": {
            "text/plain": [
              "<pymongo.results.UpdateResult at 0x7f4daef2f580>"
            ]
          },
          "execution_count": 28,
          "metadata": {},
          "output_type": "execute_result"
        }
      ],
      "source": [
        "# Update all documents in the \"truck_details\" collection\n",
        "# Increment the \"truck_age\" field by 1 for each document\n",
        "filter = {}\n",
        "\n",
        "update = {\n",
        "    \"$inc\": {\n",
        "        \"truck_age\": 1\n",
        "    }\n",
        "}\n",
        "\n",
        "# Update multiple documents using update_many\n",
        "db.truck_details.update_many(filter, update)\n"
      ]
    },
    {
      "cell_type": "code",
      "execution_count": 29,
      "metadata": {
        "colab": {
          "base_uri": "https://localhost:8080/"
        },
        "collapsed": true,
        "id": "JJt3aqoVpZOK",
        "outputId": "dc929b08-5147-4607-d183-1b53bfd79761"
      },
      "outputs": [
        {
          "data": {
            "text/plain": [
              "<pymongo.results.UpdateResult at 0x7f4daef70310>"
            ]
          },
          "execution_count": 29,
          "metadata": {},
          "output_type": "execute_result"
        }
      ],
      "source": [
        "# Update documents in the \"truck_details\" collection where the \"fuel_type\" is \"gas\"\n",
        "# Decrement the \"mileage_mpg\" field by 2 for each matching document\n",
        "filter = {\"fuel_type\": \"gas\"}\n",
        "\n",
        "update = {\n",
        "    \"$inc\": {\n",
        "        \"mileage_mpg\": -2\n",
        "    }\n",
        "}\n",
        "\n",
        "# Update multiple documents using update_many\n",
        "db.truck_details.update_many(filter, update)\n"
      ]
    },
    {
      "cell_type": "code",
      "execution_count": 15,
      "metadata": {
        "colab": {
          "base_uri": "https://localhost:8080/"
        },
        "collapsed": true,
        "id": "hMCOzkUZoof1",
        "outputId": "0665a75f-af35-4678-9abd-90af163d044a"
      },
      "outputs": [
        {
          "data": {
            "text/plain": [
              "<pymongo.results.UpdateResult at 0x7f498897c3d0>"
            ]
          },
          "execution_count": 15,
          "metadata": {},
          "output_type": "execute_result"
        }
      ],
      "source": [
        "# Upsert (update or insert) a document in the \"city_details\" collection with the specified filter\n",
        "# If a document with \"name\" equal to \"Houston\" exists, update its fields; otherwise, insert a new document\n",
        "filter = {\"name\": \"Houston\"}\n",
        "\n",
        "update = {\n",
        "    \"$set\": {\n",
        "        \"name\": \"Houston\",\n",
        "        \"city_id\": 50,\n",
        "        \"lat\": 29.74,\n",
        "        \"lon\": -95.46\n",
        "    }\n",
        "}\n",
        "\n",
        "# Use upsert=True to perform an upsert operation\n",
        "db.city_details.update_many(filter, update, upsert=True)\n"
      ]
    },
    {
      "cell_type": "code",
      "execution_count": 16,
      "metadata": {
        "colab": {
          "base_uri": "https://localhost:8080/"
        },
        "collapsed": true,
        "id": "abzB4WHAtMXu",
        "outputId": "f59227a5-6f2c-4e66-c30a-90a7dcdcd27f"
      },
      "outputs": [
        {
          "data": {
            "text/plain": [
              "<pymongo.results.DeleteResult at 0x7f49889b4940>"
            ]
          },
          "execution_count": 16,
          "metadata": {},
          "output_type": "execute_result"
        }
      ],
      "source": [
        "# Delete documents from the \"city_details\" collection where the \"name\" field is \"Houston\"\n",
        "db.city_details.delete_many({\"name\": \"Houston\"})\n"
      ]
    },
    {
      "cell_type": "code",
      "execution_count": 17,
      "metadata": {
        "colab": {
          "base_uri": "https://localhost:8080/"
        },
        "collapsed": true,
        "id": "gON4bX_wzBRI",
        "outputId": "a3afdbb0-9024-4963-c9a0-cba94ec39b3b"
      },
      "outputs": [
        {
          "name": "stdout",
          "output_type": "stream",
          "text": [
            "{'$clusterTime': {'clusterTime': Timestamp(1674618400, 1),\n",
            "                  'signature': {'hash': b'\\xa8\\xe0\\x08\\xac\\x9e\\xb4\\xf0\\x87'\n",
            "                                        b'\\xc4\\xa0\\xfe\\x00\\x16<\\td=f\\x8c\\x7f',\n",
            "                                'keyId': 7154063244682854402}},\n",
            " 'command': {'$db': 'ETA_Trucks',\n",
            "             'filter': {'origin': 'Alabama'},\n",
            "             'find': 'truck_schedule_details',\n",
            "             'sort': {'date': -1}},\n",
            " 'executionStats': {'allPlansExecution': [],\n",
            "                    'executionStages': {'advanced': 13620,\n",
            "                                        'executionTimeMillisEstimate': 51,\n",
            "                                        'inputStage': {'advanced': 13620,\n",
            "                                                       'direction': 'forward',\n",
            "                                                       'docsExamined': 566110,\n",
            "                                                       'executionTimeMillisEstimate': 50,\n",
            "                                                       'filter': {'origin': {'$eq': 'Alabama'}},\n",
            "                                                       'isEOF': 1,\n",
            "                                                       'nReturned': 13620,\n",
            "                                                       'needTime': 552491,\n",
            "                                                       'needYield': 0,\n",
            "                                                       'restoreState': 579,\n",
            "                                                       'saveState': 579,\n",
            "                                                       'stage': 'COLLSCAN',\n",
            "                                                       'works': 566112},\n",
            "                                        'isEOF': 1,\n",
            "                                        'memLimit': 33554432,\n",
            "                                        'nReturned': 13620,\n",
            "                                        'needTime': 566112,\n",
            "                                        'needYield': 0,\n",
            "                                        'restoreState': 579,\n",
            "                                        'saveState': 579,\n",
            "                                        'sortPattern': {'date': -1},\n",
            "                                        'stage': 'SORT',\n",
            "                                        'totalDataSizeSorted': 3257513,\n",
            "                                        'type': 'simple',\n",
            "                                        'usedDisk': False,\n",
            "                                        'works': 579733},\n",
            "                    'executionSuccess': True,\n",
            "                    'executionTimeMillis': 458,\n",
            "                    'nReturned': 13620,\n",
            "                    'totalDocsExamined': 566110,\n",
            "                    'totalKeysExamined': 0},\n",
            " 'explainVersion': '1',\n",
            " 'ok': 1.0,\n",
            " 'operationTime': Timestamp(1674618400, 1),\n",
            " 'queryPlanner': {'indexFilterSet': False,\n",
            "                  'maxIndexedAndSolutionsReached': False,\n",
            "                  'maxIndexedOrSolutionsReached': False,\n",
            "                  'maxScansToExplodeReached': False,\n",
            "                  'namespace': 'ETA_Trucks.truck_schedule_details',\n",
            "                  'parsedQuery': {'origin': {'$eq': 'Alabama'}},\n",
            "                  'rejectedPlans': [],\n",
            "                  'winningPlan': {'inputStage': {'direction': 'forward',\n",
            "                                                 'filter': {'origin': {'$eq': 'Alabama'}},\n",
            "                                                 'stage': 'COLLSCAN'},\n",
            "                                  'memLimit': 33554432,\n",
            "                                  'sortPattern': {'date': -1},\n",
            "                                  'stage': 'SORT',\n",
            "                                  'type': 'simple'}},\n",
            " 'serverInfo': {'gitVersion': '1b3b0073a0b436a8a502b612f24fb2bd572772e5',\n",
            "                'host': 'ac-tzhuuxz-shard-00-01.edbfm1z.mongodb.net',\n",
            "                'port': 27017,\n",
            "                'version': '5.0.14'},\n",
            " 'serverParameters': {'internalDocumentSourceGroupMaxMemoryBytes': 104857600,\n",
            "                      'internalDocumentSourceSetWindowFieldsMaxMemoryBytes': 104857600,\n",
            "                      'internalLookupStageIntermediateDocumentMaxSizeBytes': 16793600,\n",
            "                      'internalQueryFacetBufferSizeBytes': 104857600,\n",
            "                      'internalQueryFacetMaxOutputDocSizeBytes': 104857600,\n",
            "                      'internalQueryMaxAddToSetBytes': 104857600,\n",
            "                      'internalQueryMaxBlockingSortMemoryUsageBytes': 33554432,\n",
            "                      'internalQueryProhibitBlockingMergeOnMongoS': 0}}\n"
          ]
        }
      ],
      "source": [
        "# # Get execution details of the query without indexes\n",
        "pprint(db.truck_schedule_details.find({\"origin\":\"Alabama\"}).sort(\"date\",pymongo.DESCENDING).explain())"
      ]
    },
    {
      "cell_type": "code",
      "execution_count": 18,
      "metadata": {
        "colab": {
          "base_uri": "https://localhost:8080/"
        },
        "collapsed": true,
        "id": "RiZKl_5H3PBL",
        "outputId": "d37119c4-e920-4e33-f5d3-e99afc66ef3f"
      },
      "outputs": [
        {
          "data": {
            "text/plain": [
              "['origin_1_date_-1', 'destination_1']"
            ]
          },
          "execution_count": 18,
          "metadata": {},
          "output_type": "execute_result"
        }
      ],
      "source": [
        "from pymongo import IndexModel, ASCENDING, DESCENDING\n",
        "\n",
        "# Define a compound index on \"origin\" (ASCENDING) and \"date\" (DESCENDING)\n",
        "index1 = IndexModel([(\"origin\", ASCENDING), (\"date\", DESCENDING)])\n",
        "\n",
        "# Define a single-field index on \"destination\" (ASCENDING)\n",
        "index2 = IndexModel([(\"destination\", ASCENDING)])\n",
        "\n",
        "# Create the defined indexes on the \"truck_schedule_details\" collection\n",
        "db.truck_schedule_details.create_indexes([index1, index2])\n"
      ]
    },
    {
      "cell_type": "code",
      "execution_count": 19,
      "metadata": {
        "colab": {
          "base_uri": "https://localhost:8080/"
        },
        "collapsed": true,
        "id": "Uw23HY2G3Upj",
        "outputId": "e440ae02-5b0c-416c-f38e-163a1fc4bf86"
      },
      "outputs": [
        {
          "name": "stdout",
          "output_type": "stream",
          "text": [
            "{'$clusterTime': {'clusterTime': Timestamp(1674619148, 3),\n",
            "                  'signature': {'hash': b'\\x05\\xa5\\x8f\\xe4\\x97\\x03\\x1a\\xc7'\n",
            "                                        b'/\\x9a\\xd1\\x89\\xe3aXeC\\xb6\\xe9~',\n",
            "                                'keyId': 7154063244682854402}},\n",
            " 'command': {'$db': 'ETA_Trucks',\n",
            "             'filter': {'origin': 'Alabama'},\n",
            "             'find': 'truck_schedule_details',\n",
            "             'sort': {'date': -1}},\n",
            " 'executionStats': {'allPlansExecution': [],\n",
            "                    'executionStages': {'advanced': 13620,\n",
            "                                        'alreadyHasObj': 0,\n",
            "                                        'docsExamined': 13620,\n",
            "                                        'executionTimeMillisEstimate': 36,\n",
            "                                        'inputStage': {'advanced': 13620,\n",
            "                                                       'direction': 'forward',\n",
            "                                                       'dupsDropped': 0,\n",
            "                                                       'dupsTested': 0,\n",
            "                                                       'executionTimeMillisEstimate': 9,\n",
            "                                                       'indexBounds': {'date': ['[MaxKey, '\n",
            "                                                                                'MinKey]'],\n",
            "                                                                       'origin': ['[\"Alabama\", '\n",
            "                                                                                  '\"Alabama\"]']},\n",
            "                                                       'indexName': 'origin_1_date_-1',\n",
            "                                                       'indexVersion': 2,\n",
            "                                                       'isEOF': 1,\n",
            "                                                       'isMultiKey': False,\n",
            "                                                       'isPartial': False,\n",
            "                                                       'isSparse': False,\n",
            "                                                       'isUnique': False,\n",
            "                                                       'keyPattern': {'date': -1,\n",
            "                                                                      'origin': 1},\n",
            "                                                       'keysExamined': 13620,\n",
            "                                                       'multiKeyPaths': {'date': [],\n",
            "                                                                         'origin': []},\n",
            "                                                       'nReturned': 13620,\n",
            "                                                       'needTime': 0,\n",
            "                                                       'needYield': 0,\n",
            "                                                       'restoreState': 13,\n",
            "                                                       'saveState': 13,\n",
            "                                                       'seeks': 1,\n",
            "                                                       'stage': 'IXSCAN',\n",
            "                                                       'works': 13621},\n",
            "                                        'isEOF': 1,\n",
            "                                        'nReturned': 13620,\n",
            "                                        'needTime': 0,\n",
            "                                        'needYield': 0,\n",
            "                                        'restoreState': 13,\n",
            "                                        'saveState': 13,\n",
            "                                        'stage': 'FETCH',\n",
            "                                        'works': 13621},\n",
            "                    'executionSuccess': True,\n",
            "                    'executionTimeMillis': 53,\n",
            "                    'nReturned': 13620,\n",
            "                    'totalDocsExamined': 13620,\n",
            "                    'totalKeysExamined': 13620},\n",
            " 'explainVersion': '1',\n",
            " 'ok': 1.0,\n",
            " 'operationTime': Timestamp(1674619148, 3),\n",
            " 'queryPlanner': {'indexFilterSet': False,\n",
            "                  'maxIndexedAndSolutionsReached': False,\n",
            "                  'maxIndexedOrSolutionsReached': False,\n",
            "                  'maxScansToExplodeReached': False,\n",
            "                  'namespace': 'ETA_Trucks.truck_schedule_details',\n",
            "                  'parsedQuery': {'origin': {'$eq': 'Alabama'}},\n",
            "                  'rejectedPlans': [],\n",
            "                  'winningPlan': {'inputStage': {'direction': 'forward',\n",
            "                                                 'indexBounds': {'date': ['[MaxKey, '\n",
            "                                                                          'MinKey]'],\n",
            "                                                                 'origin': ['[\"Alabama\", '\n",
            "                                                                            '\"Alabama\"]']},\n",
            "                                                 'indexName': 'origin_1_date_-1',\n",
            "                                                 'indexVersion': 2,\n",
            "                                                 'isMultiKey': False,\n",
            "                                                 'isPartial': False,\n",
            "                                                 'isSparse': False,\n",
            "                                                 'isUnique': False,\n",
            "                                                 'keyPattern': {'date': -1,\n",
            "                                                                'origin': 1},\n",
            "                                                 'multiKeyPaths': {'date': [],\n",
            "                                                                   'origin': []},\n",
            "                                                 'stage': 'IXSCAN'},\n",
            "                                  'stage': 'FETCH'}},\n",
            " 'serverInfo': {'gitVersion': '1b3b0073a0b436a8a502b612f24fb2bd572772e5',\n",
            "                'host': 'ac-tzhuuxz-shard-00-01.edbfm1z.mongodb.net',\n",
            "                'port': 27017,\n",
            "                'version': '5.0.14'},\n",
            " 'serverParameters': {'internalDocumentSourceGroupMaxMemoryBytes': 104857600,\n",
            "                      'internalDocumentSourceSetWindowFieldsMaxMemoryBytes': 104857600,\n",
            "                      'internalLookupStageIntermediateDocumentMaxSizeBytes': 16793600,\n",
            "                      'internalQueryFacetBufferSizeBytes': 104857600,\n",
            "                      'internalQueryFacetMaxOutputDocSizeBytes': 104857600,\n",
            "                      'internalQueryMaxAddToSetBytes': 104857600,\n",
            "                      'internalQueryMaxBlockingSortMemoryUsageBytes': 33554432,\n",
            "                      'internalQueryProhibitBlockingMergeOnMongoS': 0}}\n"
          ]
        }
      ],
      "source": [
        "# Get execution details of the query\n",
        "pprint(db.truck_schedule_details.find({\"origin\": \"Alabama\"}).sort(\"date\", pymongo.DESCENDING).explain())\n"
      ]
    },
    {
      "cell_type": "code",
      "execution_count": 20,
      "metadata": {
        "colab": {
          "base_uri": "https://localhost:8080/"
        },
        "collapsed": true,
        "id": "U0oTBeG930xS",
        "outputId": "5b1feeeb-71cb-414e-f493-625108f91664"
      },
      "outputs": [
        {
          "data": {
            "text/plain": [
              "{'_id_': {'v': 2, 'key': [('_id', 1)]},\n",
              " 'origin_1_date_-1': {'v': 2, 'key': [('origin', 1), ('date', -1)]},\n",
              " 'destination_1': {'v': 2, 'key': [('destination', 1)]}}"
            ]
          },
          "execution_count": 20,
          "metadata": {},
          "output_type": "execute_result"
        }
      ],
      "source": [
        "# Retrieve index information for the 'truck_schedule_details' collection\n",
        "db.truck_schedule_details.index_information()"
      ]
    },
    {
      "cell_type": "code",
      "execution_count": 7,
      "metadata": {
        "id": "iYvuXo403-1B"
      },
      "outputs": [],
      "source": [
        "db2 = client['Ecom']"
      ]
    },
    {
      "cell_type": "code",
      "execution_count": 9,
      "metadata": {
        "colab": {
          "base_uri": "https://localhost:8080/"
        },
        "collapsed": true,
        "id": "8NWbK2Q3391h",
        "outputId": "e891c09b-f34e-4ff1-e3cf-be244e9d8034"
      },
      "outputs": [
        {
          "data": {
            "text/plain": [
              "<pymongo.results.InsertManyResult at 0x7f02304f6190>"
            ]
          },
          "execution_count": 9,
          "metadata": {},
          "output_type": "execute_result"
        }
      ],
      "source": [
        "# Insert documents into 'Quant' collection\n",
        "db2.Quant.insert_many([\n",
        "    {\"item\": \"abc\", \"quantity\": 41, \"lastModified\": datetime.strptime(\"2023-01-09 01:01:01\", \"%Y-%m-%d %H:%M:%S\")},\n",
        "    {\"item\": \"def\", \"quantity\": 56, \"lastModified\": datetime.strptime(\"2023-01-09 01:01:01\", \"%Y-%m-%d %H:%M:%S\")},\n",
        "    {\"item\": \"xyz\", \"quantity\": 78, \"lastModified\": datetime.strptime(\"2022-02-09 01:01:01\", \"%Y-%m-%d %H:%M:%S\")},\n",
        "    {\"item\": \"jkl\", \"quantity\": 67, \"lastModified\": datetime.strptime(\"2023-01-09 01:01:01\", \"%Y-%m-%d %H:%M:%S\")}\n",
        "])\n",
        "\n",
        "# Insert documents into 'sales' collection\n",
        "db2.sales.insert_many([\n",
        "    {\"_id\": 1, \"item\": \"abc\", \"price\": 8, \"quantity\": 4, \"date\": datetime.strptime(\"2022-01-01 01:01:01\", \"%Y-%m-%d %H:%M:%S\")},\n",
        "    {\"_id\": 2, \"item\": \"xyz\", \"price\": 8, \"quantity\": 4, \"date\": datetime.strptime(\"2022-02-01 01:01:01\", \"%Y-%m-%d %H:%M:%S\")},\n",
        "    {\"_id\": 3, \"item\": \"jkl\", \"price\": 10, \"quantity\": 5, \"date\": datetime.strptime(\"2023-01-01 01:01:01\", \"%Y-%m-%d %H:%M:%S\")},\n",
        "    {\"_id\": 4, \"item\": \"abc\", \"price\": 12, \"quantity\": 6, \"date\": datetime.strptime(\"2023-01-01 01:01:01\", \"%Y-%m-%d %H:%M:%S\")},\n",
        "    {\"_id\": 5, \"item\": \"def\", \"price\": 16, \"quantity\": 8, \"date\": datetime.strptime(\"2023-01-01 01:01:01\", \"%Y-%m-%d %H:%M:%S\")},\n",
        "    {\"_id\": 6, \"item\": \"jkl\", \"price\": 10, \"quantity\": 5, \"date\": datetime.strptime(\"2023-01-01 01:01:01\", \"%Y-%m-%d %H:%M:%S\")},\n",
        "    {\"_id\": 7, \"item\": \"abc\", \"price\": 10, \"quantity\": 5, \"date\": datetime.strptime(\"2023-01-01 01:01:01\", \"%Y-%m-%d %H:%M:%S\")}\n",
        "])\n"
      ]
    },
    {
      "cell_type": "code",
      "execution_count": 17,
      "metadata": {
        "id": "NRF0nhIw5p-l"
      },
      "outputs": [],
      "source": [
        "# Function for handling transactions\n",
        "def callback(session, sales_id, item, quantity, price, date):\n",
        "\n",
        "    # Accessing 'sales' and 'quant' collections using the provided session's client\n",
        "    sales = session.client.Ecom.sales\n",
        "    quant = session.client.Ecom.Quant\n",
        "\n",
        "    # Transaction Operations\n",
        "\n",
        "    # Insert a document into 'sales' collection with the provided data\n",
        "    sales.insert_one({\n",
        "        \"_id\": sales_id,\n",
        "        \"item\": item,\n",
        "        \"price\": price,\n",
        "        \"quantity\": quantity,\n",
        "        \"date\": date\n",
        "    }, session=session)\n",
        "\n",
        "    # Simulate an intentional error (divide by zero) to demonstrate a rollback\n",
        "    t = 6 / 0\n",
        "\n",
        "    # Update 'quant' collection by decrementing the quantity of the specified item\n",
        "    quant.update_one(\n",
        "        {\"item\": item},\n",
        "        {\n",
        "            \"$inc\": {\n",
        "                \"quantity\": -abs(quantity)\n",
        "            },\n",
        "            \"$currentDate\": {\"lastModified\": True}\n",
        "        },\n",
        "        session=session\n",
        "    )\n"
      ]
    },
    {
      "cell_type": "code",
      "execution_count": 18,
      "metadata": {
        "id": "S8MzTKg_uelv"
      },
      "outputs": [],
      "source": [
        "# Start a session using the client\n",
        "with client.start_session() as session:\n",
        "  \n",
        "    # Use a transaction within the session\n",
        "    session.with_transaction(\n",
        "        \n",
        "        # Lambda function as the transaction callback\n",
        "        lambda a: callback(a, sales_id=10, item='xyz', quantity=10, price=20, date=datetime.now())\n",
        "    )\n"
      ]
    },
    {
      "cell_type": "code",
      "execution_count": 21,
      "metadata": {
        "id": "DMUXptjiBqgF"
      },
      "outputs": [],
      "source": [
        "# MongoDB aggregation pipeline to join \"Quant\" with \"sales\" and merge the result into \"Inventory\" in the \"Ecom\" database\n",
        "stage_1 = {\n",
        "    \"$lookup\": {\n",
        "        \"from\": \"sales\",       # Collection to join with\n",
        "        \"localField\": \"item\",  # Field from the input documents\n",
        "        \"foreignField\": \"item\",  # Field from the documents of the \"sales\" collection\n",
        "        \"as\": \"sales_list\"     # Output array field\n",
        "    }\n",
        "}  # Stage 1: Join \"Quant\" with \"sales\" based on the \"item\" field\n",
        "\n",
        "stage_2 = {\"$unset\": \"sales_list._id\"}  # Stage 2: Remove the \"_id\" field from the \"sales_list\" array\n",
        "\n",
        "stage_3 = {\n",
        "    \"$merge\": {\n",
        "        \"into\": {\"db\": \"Ecom\", \"coll\": \"Inventory\"}  # Stage 3: Merge the result into the \"Inventory\" collection in the \"Ecom\" database\n",
        "    }\n",
        "}\n",
        "\n",
        "# Execute the aggregation pipeline\n",
        "results = db2.Quant.aggregate([stage_1, stage_2, stage_3])\n",
        "\n",
        "# Iterate through the aggregation results and print them\n",
        "for i in results:\n",
        "    pprint(i)\n",
        "    print(\"\\n\")\n"
      ]
    },
    {
      "cell_type": "code",
      "execution_count": 29,
      "metadata": {
        "colab": {
          "base_uri": "https://localhost:8080/"
        },
        "collapsed": true,
        "id": "W3kO1ol63fKw",
        "outputId": "d3f3bc9d-c257-407c-9269-76267fbaff98"
      },
      "outputs": [
        {
          "name": "stdout",
          "output_type": "stream",
          "text": [
            "{'_id': ObjectId('63d2f5b461859bb164d0db8b'),\n",
            " 'item': 'abc',\n",
            " 'lastModified': datetime.datetime(2023, 1, 9, 1, 1, 1),\n",
            " 'quantity': 41,\n",
            " 'sales_list': [{'date': datetime.datetime(2022, 1, 1, 1, 1, 1),\n",
            "                 'item': 'abc',\n",
            "                 'price': 8,\n",
            "                 'quantity': 4},\n",
            "                {'date': datetime.datetime(2023, 1, 1, 1, 1, 1),\n",
            "                 'item': 'abc',\n",
            "                 'price': 12,\n",
            "                 'quantity': 6},\n",
            "                {'date': datetime.datetime(2023, 1, 1, 1, 1, 1),\n",
            "                 'item': 'abc',\n",
            "                 'price': 10,\n",
            "                 'quantity': 5}]}\n",
            "\n",
            "\n",
            "{'_id': ObjectId('63d2f5b461859bb164d0db8c'),\n",
            " 'item': 'def',\n",
            " 'lastModified': datetime.datetime(2023, 1, 9, 1, 1, 1),\n",
            " 'quantity': 56,\n",
            " 'sales_list': [{'date': datetime.datetime(2023, 1, 1, 1, 1, 1),\n",
            "                 'item': 'def',\n",
            "                 'price': 16,\n",
            "                 'quantity': 8}]}\n",
            "\n",
            "\n",
            "{'_id': ObjectId('63d2f5b461859bb164d0db8d'),\n",
            " 'item': 'xyz',\n",
            " 'lastModified': datetime.datetime(2023, 1, 26, 21, 58, 21, 854000),\n",
            " 'quantity': 58,\n",
            " 'sales_list': [{'date': datetime.datetime(2022, 2, 1, 1, 1, 1),\n",
            "                 'item': 'xyz',\n",
            "                 'price': 8,\n",
            "                 'quantity': 4},\n",
            "                {'date': datetime.datetime(2023, 1, 26, 21, 56, 45, 997000),\n",
            "                 'item': 'xyz',\n",
            "                 'price': 20,\n",
            "                 'quantity': 10},\n",
            "                {'date': datetime.datetime(2023, 1, 26, 21, 58, 21, 566000),\n",
            "                 'item': 'xyz',\n",
            "                 'price': 20,\n",
            "                 'quantity': 10}]}\n",
            "\n",
            "\n",
            "{'_id': ObjectId('63d2f5b461859bb164d0db8e'),\n",
            " 'item': 'jkl',\n",
            " 'lastModified': datetime.datetime(2023, 1, 9, 1, 1, 1),\n",
            " 'quantity': 67,\n",
            " 'sales_list': [{'date': datetime.datetime(2023, 1, 1, 1, 1, 1),\n",
            "                 'item': 'jkl',\n",
            "                 'price': 10,\n",
            "                 'quantity': 5},\n",
            "                {'date': datetime.datetime(2023, 1, 1, 1, 1, 1),\n",
            "                 'item': 'jkl',\n",
            "                 'price': 10,\n",
            "                 'quantity': 5}]}\n",
            "\n",
            "\n"
          ]
        }
      ],
      "source": [
        "# MongoDB query to find documents in the \"Inventory\" collection based on specified conditions within the \"sales_list\" array\n",
        "filter = {\n",
        "    \"sales_list\": {\n",
        "        \"$elemMatch\": {\n",
        "            \"quantity\": {\"$ne\": 4},  # Match elements within \"sales_list\" where \"quantity\" is not equal to 4\n",
        "            \"$and\": [\n",
        "                {\"date\": {\"$gte\": datetime(2022, 1, 1)}},  # Match elements within \"sales_list\" where \"date\" is greater than or equal to January 1, 2022\n",
        "                {\"date\": {\"$lte\": datetime(2023, 2, 1)}}    # Match elements within \"sales_list\" where \"date\" is less than or equal to February 1, 2023\n",
        "            ]\n",
        "        }\n",
        "    }\n",
        "}\n",
        "\n",
        "# MongoDB query to find documents in the \"Inventory\" collection based on the specified filter\n",
        "result = db2.Inventory.find(filter)\n",
        "\n",
        "# Iterate through the query results and print each document\n",
        "for i in result:\n",
        "    pprint(i)\n",
        "    print('\\n')\n"
      ]
    },
    {
      "cell_type": "code",
      "execution_count": 30,
      "metadata": {
        "colab": {
          "base_uri": "https://localhost:8080/"
        },
        "collapsed": true,
        "id": "2N_FVuGg30M3",
        "outputId": "7d2abcf4-386b-4c95-c932-07d8c12d3a13"
      },
      "outputs": [
        {
          "name": "stdout",
          "output_type": "stream",
          "text": [
            "{'_id': ObjectId('63d2f5b461859bb164d0db8c'),\n",
            " 'item': 'def',\n",
            " 'lastModified': datetime.datetime(2023, 1, 9, 1, 1, 1),\n",
            " 'quantity': 56,\n",
            " 'sales_list': [{'date': datetime.datetime(2023, 1, 1, 1, 1, 1),\n",
            "                 'item': 'def',\n",
            "                 'price': 16,\n",
            "                 'quantity': 8}]}\n",
            "\n",
            "\n",
            "{'_id': ObjectId('63d2f5b461859bb164d0db8e'),\n",
            " 'item': 'jkl',\n",
            " 'lastModified': datetime.datetime(2023, 1, 9, 1, 1, 1),\n",
            " 'quantity': 67,\n",
            " 'sales_list': [{'date': datetime.datetime(2023, 1, 1, 1, 1, 1),\n",
            "                 'item': 'jkl',\n",
            "                 'price': 10,\n",
            "                 'quantity': 5},\n",
            "                {'date': datetime.datetime(2023, 1, 1, 1, 1, 1),\n",
            "                 'item': 'jkl',\n",
            "                 'price': 10,\n",
            "                 'quantity': 5}]}\n",
            "\n",
            "\n"
          ]
        }
      ],
      "source": [
        "# MongoDB query to find documents in the \"Inventory\" collection based on specified conditions\n",
        "result = db2.Inventory.find({\n",
        "    \"sales_list.quantity\": {\"$ne\": 4},  # Match documents where \"quantity\" in \"sales_list\" is not equal to 4\n",
        "    \"$and\": [\n",
        "        {\"sales_list.date\": {\"$gte\": datetime(2022, 1, 1)}},  # Match documents where \"date\" in \"sales_list\" is greater than or equal to January 1, 2022\n",
        "        {\"sales_list.date\": {\"$lte\": datetime(2023, 2, 1)}}   # Match documents where \"date\" in \"sales_list\" is less than or equal to February 1, 2023\n",
        "    ]\n",
        "})\n",
        "\n",
        "# Iterate through the query results and print each document\n",
        "for i in result:\n",
        "    pprint(i)\n",
        "    print('\\n')\n"
      ]
    },
    {
      "cell_type": "code",
      "execution_count": 31,
      "metadata": {
        "colab": {
          "base_uri": "https://localhost:8080/"
        },
        "collapsed": true,
        "id": "WwHeep6CfA-N",
        "outputId": "b3d66499-4d7c-4299-e04c-23415d7509f7"
      },
      "outputs": [
        {
          "data": {
            "text/plain": [
              "<pymongo.results.UpdateResult at 0x7f022e0de3d0>"
            ]
          },
          "execution_count": 31,
          "metadata": {},
          "output_type": "execute_result"
        }
      ],
      "source": [
        "# Connect to MongoDB\n",
        "client = MongoClient(\"your_mongodb_connection_string\")\n",
        "db2 = client.your_database_name\n",
        "\n",
        "# Define the filter to match documents with the specified item\n",
        "filter = {\"item\": \"xyz\"}\n",
        "\n",
        "# Define the update operations\n",
        "update = {\n",
        "    \"$inc\": {\n",
        "        \"quantity\": -7  # Decrement the \"quantity\" field by 7\n",
        "    },\n",
        "    \"$push\": {\n",
        "        \"sales_list\": {  # Push a new document into the \"sales_list\" array\n",
        "            \"item\": \"xyz\",\n",
        "            \"price\": 14,\n",
        "            \"quantity\": 7,\n",
        "            \"date\": datetime.now()  # Set the \"date\" field with the current date\n",
        "        }\n",
        "    },\n",
        "    \"$currentDate\": {\"lastModified\": True}  # Update the \"lastModified\" field with the current date\n",
        "}\n",
        "\n",
        "# Update documents in the \"Inventory\" collection based on the filter\n",
        "result = db2.Inventory.update_many(filter, update)\n",
        "\n",
        "# Print the number of documents matched and modified\n",
        "print(f\"Matched {result.matched_count} documents and modified {result.modified_count} documents.\")\n"
      ]
    },
    {
      "cell_type": "code",
      "execution_count": 8,
      "metadata": {
        "colab": {
          "base_uri": "https://localhost:8080/"
        },
        "collapsed": true,
        "id": "GgIoNdV-usuq",
        "outputId": "cf8a2bc9-a999-4f83-f105-20fc0b864593"
      },
      "outputs": [
        {
          "name": "stdout",
          "output_type": "stream",
          "text": [
            "{'VAT': [0.4, 0.6000000000000001, 0.5],\n",
            " '_id': ObjectId('63d2f5b461859bb164d0db8b'),\n",
            " 'item': 'abc',\n",
            " 'lastModified': datetime.datetime(2023, 1, 9, 1, 1, 1),\n",
            " 'quantity': 41,\n",
            " 'sales_list': [{'date': datetime.datetime(2022, 1, 1, 1, 1, 1),\n",
            "                 'item': 'abc',\n",
            "                 'price': 8,\n",
            "                 'quantity': 4},\n",
            "                {'date': datetime.datetime(2023, 1, 1, 1, 1, 1),\n",
            "                 'item': 'abc',\n",
            "                 'price': 12,\n",
            "                 'quantity': 6},\n",
            "                {'date': datetime.datetime(2023, 1, 1, 1, 1, 1),\n",
            "                 'item': 'abc',\n",
            "                 'price': 10,\n",
            "                 'quantity': 5}]}\n",
            "{'VAT': [0.8],\n",
            " '_id': ObjectId('63d2f5b461859bb164d0db8c'),\n",
            " 'item': 'def',\n",
            " 'lastModified': datetime.datetime(2023, 1, 9, 1, 1, 1),\n",
            " 'quantity': 56,\n",
            " 'sales_list': [{'date': datetime.datetime(2023, 1, 1, 1, 1, 1),\n",
            "                 'item': 'def',\n",
            "                 'price': 16,\n",
            "                 'quantity': 8}]}\n",
            "{'VAT': [0.4, 1.0, 1.0, 0.7000000000000001],\n",
            " '_id': ObjectId('63d2f5b461859bb164d0db8d'),\n",
            " 'item': 'xyz',\n",
            " 'lastModified': datetime.datetime(2023, 1, 26, 23, 59, 5, 528000),\n",
            " 'quantity': 51,\n",
            " 'sales_list': [{'date': datetime.datetime(2022, 2, 1, 1, 1, 1),\n",
            "                 'item': 'xyz',\n",
            "                 'price': 8,\n",
            "                 'quantity': 4},\n",
            "                {'date': datetime.datetime(2023, 1, 26, 21, 56, 45, 997000),\n",
            "                 'item': 'xyz',\n",
            "                 'price': 20,\n",
            "                 'quantity': 10},\n",
            "                {'date': datetime.datetime(2023, 1, 26, 21, 58, 21, 566000),\n",
            "                 'item': 'xyz',\n",
            "                 'price': 20,\n",
            "                 'quantity': 10},\n",
            "                {'date': datetime.datetime(2023, 1, 26, 23, 59, 5, 432000),\n",
            "                 'item': 'xyz',\n",
            "                 'price': 14,\n",
            "                 'quantity': 7}]}\n",
            "{'VAT': [0.5, 0.5],\n",
            " '_id': ObjectId('63d2f5b461859bb164d0db8e'),\n",
            " 'item': 'jkl',\n",
            " 'lastModified': datetime.datetime(2023, 1, 9, 1, 1, 1),\n",
            " 'quantity': 67,\n",
            " 'sales_list': [{'date': datetime.datetime(2023, 1, 1, 1, 1, 1),\n",
            "                 'item': 'jkl',\n",
            "                 'price': 10,\n",
            "                 'quantity': 5},\n",
            "                {'date': datetime.datetime(2023, 1, 1, 1, 1, 1),\n",
            "                 'item': 'jkl',\n",
            "                 'price': 10,\n",
            "                 'quantity': 5}]}\n"
          ]
        }
      ],
      "source": [
        "# MongoDB aggregation pipeline to calculate VAT for each item in the sales_list\n",
        "stage_1 = {\n",
        "    \"$set\": {\n",
        "        \"VAT\": {\n",
        "            \"$map\": {\n",
        "                \"input\": \"$sales_list\",  # Input array to map over\n",
        "                \"as\": \"grade\",  # Variable to represent each element in the array\n",
        "                \"in\": {\"$multiply\": [\"$$grade.price\", 0.05]}  # Multiply each \"price\" by 0.05\n",
        "            }\n",
        "        }\n",
        "    }\n",
        "}  # Stage 1: Create a new field \"VAT\" by calculating VAT for each item in the \"sales_list\"\n",
        "\n",
        "# Execute the aggregation pipeline\n",
        "result = db2.Inventory.aggregate([stage_1])\n",
        "\n",
        "# Iterate through the aggregation results and print them\n",
        "for i in result:\n",
        "    pprint(i)\n"
      ]
    },
    {
      "cell_type": "code",
      "execution_count": 16,
      "metadata": {
        "id": "LX08MIC4iebn"
      },
      "outputs": [],
      "source": [
        "# MongoDB aggregation pipeline to find the average age of all drivers\n",
        "stage_1 = {\n",
        "    '$group': {\n",
        "        '_id': None,  # Group by nothing to calculate the average across all documents\n",
        "        'avg_Age': {'$avg': '$age'}  # Calculate the average age\n",
        "    }\n",
        "}  # Stage 1: Group by nothing and calculate the average age\n",
        "\n",
        "# Execute the aggregation pipeline\n",
        "result = db.driver_details.aggregate([stage_1])\n",
        "\n",
        "# Iterate through the aggregation results and print them\n",
        "for i in result:\n",
        "    pprint(i)\n"
      ]
    },
    {
      "cell_type": "code",
      "execution_count": 16,
      "metadata": {
        "id": "YkqoDSXz2ScJ"
      },
      "outputs": [],
      "source": [
        "# MongoDB aggregation pipeline to find the average age of all drivers by all documents, gender, and driving style\n",
        "facet_stage = {\n",
        "    '$facet': {\n",
        "        'AVG_AGE_ALL': [\n",
        "            {'$group': {\n",
        "                '_id': None,\n",
        "                'avg_Age': {'$avg': '$age'},  # Calculate average age\n",
        "                'total_count': {'$sum': 1}  # Count the total number of documents\n",
        "            }}\n",
        "        ],\n",
        "        'AVG_AGE_GENDER': [\n",
        "            {'$group': {\n",
        "                '_id': '$gender',  # Group by gender\n",
        "                'avg_Age': {'$avg': '$age'},  # Calculate average age within each gender group\n",
        "                'total_count': {'$sum': 1}  # Count the total number of documents within each gender group\n",
        "            }}\n",
        "        ],\n",
        "        'AVG_AGE_STYLE': [\n",
        "            {'$group': {\n",
        "                '_id': '$driving_style',  # Group by driving style\n",
        "                'avg_Age': {'$avg': '$age'},  # Calculate average age within each driving style group\n",
        "                'total_count': {'$sum': 1}  # Count the total number of documents within each driving style group\n",
        "            }}\n",
        "        ]\n",
        "    }\n",
        "}  # Stage: Use $facet to compute multiple aggregations at once\n",
        "\n",
        "# Execute the aggregation pipeline\n",
        "result = db.driver_details.aggregate([facet_stage])\n",
        "\n",
        "# Iterate through the aggregation results and print them\n",
        "for i in result:\n",
        "    pprint(i)\n"
      ]
    },
    {
      "cell_type": "code",
      "execution_count": 32,
      "metadata": {
        "id": "mXf6DDe52Vct"
      },
      "outputs": [],
      "source": [
        "# MongoDB aggregation pipeline to join truck and driver details, calculate total_trucks and total_fines, and save to another collection\n",
        "stage_1 = {\n",
        "    \"$lookup\": {\n",
        "        \"from\": \"truck_details\",  # Collection to join with\n",
        "        \"localField\": \"vehicle_no\",  # Field from the input documents\n",
        "        \"foreignField\": \"truck_id\",  # Field from the documents of the \"truck_details\" collection\n",
        "        \"as\": \"trucks_assigned\"  # Output array field\n",
        "    }\n",
        "}  # Stage 1: Join \"driver_details\" with \"truck_details\"\n",
        "\n",
        "stage_2 = {\"$unset\": [\"vehicle_no\", \"trucks_assigned._id\"]}  # Stage 2: Remove unnecessary fields\n",
        "\n",
        "stage_3 = {'$addFields': {'t_trucks': {'$size': '$trucks_assigned'}}}  # Stage 3: Calculate total_trucks\n",
        "\n",
        "stage_4 = {\"$unwind\": \"$trucks_assigned\"}  # Stage 4: Unwind the array for further processing\n",
        "\n",
        "stage_5 = {\n",
        "    '$addFields': {\n",
        "        't_fines': {\n",
        "            '$cond': {\n",
        "                'else': None,\n",
        "                'if': {'$and': [{'$isArray': '$trucks_assigned.fines'}]},  # Check if fines array exists\n",
        "                'then': {'$size': '$trucks_assigned.fines'}  # Calculate total_fines\n",
        "            }\n",
        "        }\n",
        "    }\n",
        "}  # Stage 5: Calculate total_fines\n",
        "\n",
        "stage_6 = {'$out': {'coll': 'driver_trucks', 'db': 'ETA_Trucks'}}  # Stage 6: Save the result to \"driver_trucks\" collection\n",
        "\n",
        "limit_stage = {\"$limit\": 5}  # Limit the results for testing purposes\n",
        "\n",
        "temp_stage = {\"$match\": {\"name\": \"Scott Hawkins\"}}  # Additional match stage for testing purposes\n",
        "\n",
        "# Execute the aggregation pipeline\n",
        "result = db.driver_details.aggregate([stage_1, stage_2, stage_3, stage_4, stage_5, limit_stage, stage_6])\n",
        "\n",
        "# Iterate through the aggregation results and print them\n",
        "for i in result:\n",
        "    pprint(i)\n",
        "    print(\"\\n\")\n"
      ]
    },
    {
      "cell_type": "code",
      "execution_count": 37,
      "metadata": {
        "id": "HJVhPREc2eB2"
      },
      "outputs": [],
      "source": [
        "# MongoDB aggregation pipeline to add a GeoJSON field and merge the result back into the collection\n",
        "stage_1 = {\n",
        "    '$addFields': {\n",
        "        'location': {\n",
        "            'coordinates': ['$lon', '$lat'],  # Create a GeoJSON Point with 'lon' and 'lat' values\n",
        "            'type': 'Point'\n",
        "        }\n",
        "    }\n",
        "}  # Stage 1: Add a GeoJSON field named 'location'\n",
        "\n",
        "stage_2 = {\n",
        "    '$merge': {\n",
        "        'into': 'city_details',  # Merge the result back into the 'city_details' collection\n",
        "        'on': '_id',  # Use the '_id' field for matching documents\n",
        "        'whenMatched': 'replace'  # Replace existing documents when a match is found\n",
        "    }\n",
        "}  # Stage 2: Merge the result back into the collection\n",
        "\n",
        "result = db.city_details.aggregate([stage_1, stage_2])\n",
        "\n",
        "# Iterate through the aggregation results and print them\n",
        "for i in result:\n",
        "    pprint(i)\n",
        "    print(\"\\n\")\n"
      ]
    },
    {
      "cell_type": "code",
      "execution_count": 38,
      "metadata": {
        "colab": {
          "base_uri": "https://localhost:8080/"
        },
        "collapsed": true,
        "id": "WQjzPTgOHil-",
        "outputId": "510be47c-314b-4093-bd1e-28b2c722318c"
      },
      "outputs": [
        {
          "data": {
            "text/plain": [
              "['location_2dsphere']"
            ]
          },
          "execution_count": 38,
          "metadata": {},
          "output_type": "execute_result"
        }
      ],
      "source": [
        "from pymongo import IndexModel, ASCENDING, DESCENDING\n",
        "\n",
        "# Define the 2dsphere index model for the \"location\" field\n",
        "index1 = IndexModel([(\"location\", \"2dsphere\")])\n",
        "\n",
        "# Create the index in the \"city_details\" collection\n",
        "db.city_details.create_indexes([index1])\n"
      ]
    },
    {
      "cell_type": "code",
      "execution_count": 41,
      "metadata": {
        "colab": {
          "base_uri": "https://localhost:8080/"
        },
        "collapsed": true,
        "id": "nPt1KWLUHntz",
        "outputId": "cf3bff11-2659-44c6-b986-9b04fe3ff40f"
      },
      "outputs": [
        {
          "name": "stdout",
          "output_type": "stream",
          "text": [
            "{'_id': ObjectId('63cf28c750cce1d3ca60fa11'),\n",
            " 'city_id': 25,\n",
            " 'dist': {'calculated': 211.57425184978044,\n",
            "          'location': {'coordinates': [-95.538, 29.618], 'type': 'Point'}},\n",
            " 'lat': 29.618,\n",
            " 'location': {'coordinates': [-95.538, 29.618], 'type': 'Point'},\n",
            " 'lon': -95.538,\n",
            " 'name': 'Missouri City'}\n",
            "\n",
            "\n",
            "{'_id': ObjectId('63cf28c750cce1d3ca60fa22'),\n",
            " 'city_id': 42,\n",
            " 'dist': {'calculated': 278.27607088631123,\n",
            "          'location': {'coordinates': [-94.903, 29.384], 'type': 'Point'}},\n",
            " 'lat': 29.384,\n",
            " 'location': {'coordinates': [-94.903, 29.384], 'type': 'Point'},\n",
            " 'lon': -94.903,\n",
            " 'name': 'Texas City'}\n",
            "\n",
            "\n",
            "{'_id': ObjectId('63cf28c750cce1d3ca60fa1c'),\n",
            " 'city_id': 36,\n",
            " 'dist': {'calculated': 584.0221857132893,\n",
            "          'location': {'coordinates': [-97.516, 35.468], 'type': 'Point'}},\n",
            " 'lat': 35.468,\n",
            " 'location': {'coordinates': [-97.516, 35.468], 'type': 'Point'},\n",
            " 'lon': -97.516,\n",
            " 'name': 'Oklahoma City'}\n",
            "\n",
            "\n",
            "{'_id': ObjectId('63cf28c750cce1d3ca60f9fc'),\n",
            " 'city_id': 4,\n",
            " 'dist': {'calculated': 763.272036209888,\n",
            "          'location': {'coordinates': [-97.038, 37.062], 'type': 'Point'}},\n",
            " 'lat': 37.062,\n",
            " 'location': {'coordinates': [-97.038, 37.062], 'type': 'Point'},\n",
            " 'lon': -97.038,\n",
            " 'name': 'Arkansas City'}\n",
            "\n",
            "\n"
          ]
        }
      ],
      "source": [
        "# MongoDB aggregation pipeline to find the nearest centers for delivery from a given set of coordinates\n",
        "result = db.city_details.aggregate([\n",
        "    {\n",
        "        '$geoNear': {\n",
        "            'distanceField': 'dist.calculated',  # Output field that contains the calculated distance\n",
        "            'distanceMultiplier': 0.001,  # Convert distance to kilometers\n",
        "            'includeLocs': 'dist.location',  # Include location information in 'dist.location'\n",
        "            'maxDistance': 800000,  # Maximum distance in meters for the centers to be considered\n",
        "            'minDistance': 0,  # Minimum distance in meters for the centers to be considered\n",
        "            'near': {'coordinates': [-97.617134, 30.222296], 'type': 'Point'},  # Specify the reference point\n",
        "            'spherical': True  # Use spherical geometry for more accurate distance calculations\n",
        "        }\n",
        "    }\n",
        "])\n",
        "\n",
        "# Iterate through the aggregation results and print them\n",
        "for i in result:\n",
        "    pprint(i)\n",
        "    print(\"\\n\")\n"
      ]
    },
    {
      "cell_type": "code",
      "execution_count": 7,
      "metadata": {
        "colab": {
          "base_uri": "https://localhost:8080/"
        },
        "collapsed": true,
        "id": "XV8RcFqkNuvu",
        "outputId": "dde7b5e9-353c-4f57-865c-904117307c43"
      },
      "outputs": [
        {
          "name": "stdout",
          "output_type": "stream",
          "text": [
            "{'is_delay': True, 'totalcount': 37113}\n",
            "\n",
            "\n",
            "{'is_delay': False, 'totalcount': 528997}\n",
            "\n",
            "\n"
          ]
        }
      ],
      "source": [
        "# MongoDB aggregation pipeline to count the total number of delayed journeys\n",
        "stage_1 = {\n",
        "    '$group': {\n",
        "        '_id': {\n",
        "            '$toBool': {\n",
        "                '$convert': {\n",
        "                    'input': '$delay',  # Convert the 'delay' field to decimal\n",
        "                    'to': 'decimal'\n",
        "                }\n",
        "            }\n",
        "        },\n",
        "        'totalcount': {'$sum': 1}  # Count the occurrences of delayed and not delayed journeys\n",
        "    }\n",
        "}  # Stage 1: Group by whether the journey is delayed or not, and count the occurrences\n",
        "\n",
        "stage_2 = {\n",
        "    '$project': {\n",
        "        '_id': 0,\n",
        "        'is_delay': '$_id',  # Create a new field 'is_delay' with the values from '_id'\n",
        "        'totalcount': '$totalcount'  # Project the total count for each category\n",
        "    }\n",
        "}  # Stage 2: Project the required fields for the final result\n",
        "\n",
        "result = db.truck_schedule_details.aggregate([stage_1, stage_2])\n",
        "\n",
        "# Iterate through the aggregation results and print them\n",
        "for i in result:\n",
        "    pprint(i)\n",
        "    print(\"\\n\")\n"
      ]
    },
    {
      "cell_type": "code",
      "execution_count": 12,
      "metadata": {
        "colab": {
          "base_uri": "https://localhost:8080/"
        },
        "collapsed": true,
        "id": "PoN8pLZgeGH5",
        "outputId": "7b1ffbfe-4f74-499e-d12e-69a7b3779844"
      },
      "outputs": [
        {
          "name": "stdout",
          "output_type": "stream",
          "text": [
            "{'route': {'destination': 'Pennsylvania Furnace',\n",
            "           'origin': 'South Dakota Park'},\n",
            " 'route_id': 'South_Dakota_Park_Pennsylvania_Furnace_97381',\n",
            " 'total_delays': 104}\n",
            "\n",
            "\n",
            "{'route': {'destination': 'South Dakota Park',\n",
            "           'origin': 'Pennsylvania Furnace'},\n",
            " 'route_id': 'Pennsylvania_Furnace_South_Dakota_Park_1751',\n",
            " 'total_delays': 104}\n",
            "\n",
            "\n",
            "{'route': {'destination': 'Nebraska City', 'origin': 'Pennsylvania Furnace'},\n",
            " 'route_id': 'Pennsylvania_Furnace_Nebraska_City_1193',\n",
            " 'total_delays': 99}\n",
            "\n",
            "\n",
            "{'route': {'destination': 'Pennsylvania Furnace', 'origin': 'Nebraska City'},\n",
            " 'route_id': 'Nebraska_City_Pennsylvania_Furnace_79948',\n",
            " 'total_delays': 99}\n",
            "\n",
            "\n",
            "{'route': {'destination': 'Nevada', 'origin': 'Worcester'},\n",
            " 'route_id': 'Worcester_Nevada_86544',\n",
            " 'total_delays': 95}\n",
            "\n",
            "\n",
            "{'route': {'destination': 'Worcester', 'origin': 'Nevada'},\n",
            " 'route_id': 'Nevada_Worcester_59645',\n",
            " 'total_delays': 95}\n",
            "\n",
            "\n",
            "{'route': {'destination': 'Pennsylvania Furnace', 'origin': 'Oklahoma City'},\n",
            " 'route_id': 'Oklahoma_City_Pennsylvania_Furnace_78305',\n",
            " 'total_delays': 94}\n",
            "\n",
            "\n",
            "{'route': {'destination': 'Oklahoma City', 'origin': 'Pennsylvania Furnace'},\n",
            " 'route_id': 'Pennsylvania_Furnace_Oklahoma_City_88539',\n",
            " 'total_delays': 94}\n",
            "\n",
            "\n",
            "{'route': {'destination': 'Arkansas City', 'origin': 'Pennsylvania Furnace'},\n",
            " 'route_id': 'Pennsylvania_Furnace_Arkansas_City_39511',\n",
            " 'total_delays': 92}\n",
            "\n",
            "\n",
            "{'route': {'destination': 'Pennsylvania Furnace', 'origin': 'Arkansas City'},\n",
            " 'route_id': 'Arkansas_City_Pennsylvania_Furnace_4746',\n",
            " 'total_delays': 92}\n",
            "\n",
            "\n"
          ]
        }
      ],
      "source": [
        "# MongoDB aggregation pipeline to find the most congested routes\n",
        "stage_1 = {'$match': {'delay': '1'}}  # Stage 1: Match documents where the delay is equal to \"1\"\n",
        "\n",
        "stage_2 = {\n",
        "    '$group': {\n",
        "        '_id': {\n",
        "            'destination': '$destination',  # Group by the 'destination' field\n",
        "            'origin': '$origin'  # Group by the 'origin' field\n",
        "        },\n",
        "        'route_id': {'$first': '$route_id'},  # Take the first 'route_id' encountered in the group\n",
        "        'totalcount': {'$sum': 1}  # Count the occurrences of delays for each route\n",
        "    }\n",
        "}  # Stage 2: Group by destination and origin, aggregate unique route_ids and total delays\n",
        "\n",
        "stage_3 = {\n",
        "    '$project': {\n",
        "        '_id': 0,\n",
        "        'route': '$_id',  # Create a new field 'route' with the values from '_id'\n",
        "        'route_id': '$route_id',  # Project the 'route_id' field\n",
        "        'total_delays': '$totalcount'  # Project the total delays for each route\n",
        "    }\n",
        "}  # Stage 3: Project the required fields for the final result\n",
        "\n",
        "stage_4 = {'$sort': {'total_delays': -1}}  # Stage 4: Sort the results based on total delays in descending order\n",
        "\n",
        "limit_stage = {\"$limit\": 10}  # Limit the results to the top 10 congested routes\n",
        "\n",
        "result = db.truck_schedule_details.aggregate([stage_1, stage_2, stage_3, stage_4, limit_stage])\n",
        "\n",
        "# Iterate through the aggregation results and print them\n",
        "for i in result:\n",
        "    pprint(i)\n",
        "    print(\"\\n\")\n"
      ]
    },
    {
      "cell_type": "code",
      "execution_count": 14,
      "metadata": {
        "colab": {
          "base_uri": "https://localhost:8080/"
        },
        "collapsed": true,
        "id": "mvcZhGcTf8nm",
        "outputId": "3e46a637-6b1c-42fb-985c-8e4895290de7"
      },
      "outputs": [
        {
          "name": "stdout",
          "output_type": "stream",
          "text": [
            "{'month_year': {'month': 1, 'year': 2017},\n",
            " 'total_delays': 3740,\n",
            " 'unique_routes_affected': 1404}\n",
            "\n",
            "\n",
            "{'month_year': {'month': 3, 'year': 2017},\n",
            " 'total_delays': 2495,\n",
            " 'unique_routes_affected': 1208}\n",
            "\n",
            "\n",
            "{'month_year': {'month': 12, 'year': 2017},\n",
            " 'total_delays': 2339,\n",
            " 'unique_routes_affected': 1172}\n",
            "\n",
            "\n",
            "{'month_year': {'month': 1, 'year': 2018},\n",
            " 'total_delays': 1826,\n",
            " 'unique_routes_affected': 1009}\n",
            "\n",
            "\n",
            "{'month_year': {'month': 3, 'year': 2018},\n",
            " 'total_delays': 1818,\n",
            " 'unique_routes_affected': 1042}\n",
            "\n",
            "\n",
            "{'month_year': {'month': 2, 'year': 2018},\n",
            " 'total_delays': 1797,\n",
            " 'unique_routes_affected': 1025}\n",
            "\n",
            "\n",
            "{'month_year': {'month': 11, 'year': 2018},\n",
            " 'total_delays': 1735,\n",
            " 'unique_routes_affected': 975}\n",
            "\n",
            "\n",
            "{'month_year': {'month': 9, 'year': 2018},\n",
            " 'total_delays': 1708,\n",
            " 'unique_routes_affected': 975}\n",
            "\n",
            "\n",
            "{'month_year': {'month': 4, 'year': 2018},\n",
            " 'total_delays': 1677,\n",
            " 'unique_routes_affected': 1062}\n",
            "\n",
            "\n",
            "{'month_year': {'month': 12, 'year': 2018},\n",
            " 'total_delays': 1600,\n",
            " 'unique_routes_affected': 933}\n",
            "\n",
            "\n",
            "{'month_year': {'month': 5, 'year': 2017},\n",
            " 'total_delays': 1571,\n",
            " 'unique_routes_affected': 1103}\n",
            "\n",
            "\n",
            "{'month_year': {'month': 2, 'year': 2017},\n",
            " 'total_delays': 1360,\n",
            " 'unique_routes_affected': 865}\n",
            "\n",
            "\n",
            "{'month_year': {'month': 8, 'year': 2017},\n",
            " 'total_delays': 1300,\n",
            " 'unique_routes_affected': 986}\n",
            "\n",
            "\n",
            "{'month_year': {'month': 9, 'year': 2017},\n",
            " 'total_delays': 1237,\n",
            " 'unique_routes_affected': 891}\n",
            "\n",
            "\n",
            "{'month_year': {'month': 10, 'year': 2017},\n",
            " 'total_delays': 1237,\n",
            " 'unique_routes_affected': 889}\n",
            "\n",
            "\n",
            "{'month_year': {'month': 5, 'year': 2018},\n",
            " 'total_delays': 1213,\n",
            " 'unique_routes_affected': 801}\n",
            "\n",
            "\n",
            "{'month_year': {'month': 6, 'year': 2018},\n",
            " 'total_delays': 1177,\n",
            " 'unique_routes_affected': 850}\n",
            "\n",
            "\n",
            "{'month_year': {'month': 4, 'year': 2017},\n",
            " 'total_delays': 1158,\n",
            " 'unique_routes_affected': 818}\n",
            "\n",
            "\n",
            "{'month_year': {'month': 7, 'year': 2018},\n",
            " 'total_delays': 1148,\n",
            " 'unique_routes_affected': 832}\n",
            "\n",
            "\n",
            "{'month_year': {'month': 11, 'year': 2017},\n",
            " 'total_delays': 1140,\n",
            " 'unique_routes_affected': 873}\n",
            "\n",
            "\n",
            "{'month_year': {'month': 10, 'year': 2018},\n",
            " 'total_delays': 1076,\n",
            " 'unique_routes_affected': 792}\n",
            "\n",
            "\n",
            "{'month_year': {'month': 8, 'year': 2018},\n",
            " 'total_delays': 1065,\n",
            " 'unique_routes_affected': 762}\n",
            "\n",
            "\n",
            "{'month_year': {'month': 6, 'year': 2017},\n",
            " 'total_delays': 928,\n",
            " 'unique_routes_affected': 790}\n",
            "\n",
            "\n",
            "{'month_year': {'month': 7, 'year': 2017},\n",
            " 'total_delays': 768,\n",
            " 'unique_routes_affected': 608}\n",
            "\n",
            "\n"
          ]
        }
      ],
      "source": [
        "# MongoDB aggregation pipeline to find months with the most delays and total routes affected for the past two years\n",
        "stage_1 = {'$match': {'delay': '1'}}  # Stage 1: Match documents where the delay is equal to \"1\"\n",
        "\n",
        "stage_2 = {\n",
        "    '$group': {\n",
        "        '_id': {\n",
        "            'month': {'$month': '$date'},  # Extract the month from the 'date' field\n",
        "            'year': {'$year': '$date'}  # Extract the year from the 'date' field\n",
        "        },\n",
        "        'routes': {'$addToSet': '$route_id'},  # Add unique route_ids to the 'routes' array\n",
        "        'total_delays': {'$sum': 1}  # Count the occurrences of delays\n",
        "    }\n",
        "}  # Stage 2: Group by month and year, aggregate unique routes and total delays\n",
        "\n",
        "stage_3 = {\n",
        "    '$project': {\n",
        "        '_id': 0,\n",
        "        'month_year': '$_id',  # Create a new field 'month_year' with the values from '_id'\n",
        "        'total_delays': '$total_delays',  # Project the 'total_delays' field\n",
        "        'unique_routes_affected': {'$size': '$routes'}  # Project the size of the 'routes' array\n",
        "    }\n",
        "}  # Stage 3: Project the required fields for the final result\n",
        "\n",
        "stage_4 = {'$sort': {'total_delays': -1}}  # Stage 4: Sort the results based on total delays in descending order\n",
        "\n",
        "result = db.truck_schedule_details.aggregate([stage_1, stage_2, stage_3, stage_4])\n",
        "\n",
        "# Iterate through the aggregation results and print them\n",
        "for i in result:\n",
        "    pprint(i)\n",
        "    print(\"\\n\")\n"
      ]
    },
    {
      "cell_type": "code",
      "execution_count": 17,
      "metadata": {
        "colab": {
          "base_uri": "https://localhost:8080/"
        },
        "collapsed": true,
        "id": "ouBCtGjVnDuy",
        "outputId": "8173f7fb-ea38-4e38-8a14-6e28b70e67ee"
      },
      "outputs": [
        {
          "name": "stdout",
          "output_type": "stream",
          "text": [
            "{'_id': {'month': 1, 'year': 2017},\n",
            " 'total_delays': 3740,\n",
            " 'unique_routes_affected': 1404}\n",
            "\n",
            "\n",
            "{'_id': {'month': 3, 'year': 2017},\n",
            " 'total_delays': 2495,\n",
            " 'unique_routes_affected': 1208}\n",
            "\n",
            "\n",
            "{'_id': {'month': 12, 'year': 2017},\n",
            " 'total_delays': 2339,\n",
            " 'unique_routes_affected': 1172}\n",
            "\n",
            "\n",
            "{'_id': {'month': 1, 'year': 2018},\n",
            " 'total_delays': 1826,\n",
            " 'unique_routes_affected': 1009}\n",
            "\n",
            "\n",
            "{'_id': {'month': 3, 'year': 2018},\n",
            " 'total_delays': 1818,\n",
            " 'unique_routes_affected': 1042}\n",
            "\n",
            "\n",
            "{'_id': {'month': 2, 'year': 2018},\n",
            " 'total_delays': 1797,\n",
            " 'unique_routes_affected': 1025}\n",
            "\n",
            "\n",
            "{'_id': {'month': 11, 'year': 2018},\n",
            " 'total_delays': 1735,\n",
            " 'unique_routes_affected': 975}\n",
            "\n",
            "\n",
            "{'_id': {'month': 9, 'year': 2018},\n",
            " 'total_delays': 1708,\n",
            " 'unique_routes_affected': 975}\n",
            "\n",
            "\n",
            "{'_id': {'month': 4, 'year': 2018},\n",
            " 'total_delays': 1677,\n",
            " 'unique_routes_affected': 1062}\n",
            "\n",
            "\n",
            "{'_id': {'month': 12, 'year': 2018},\n",
            " 'total_delays': 1600,\n",
            " 'unique_routes_affected': 933}\n",
            "\n",
            "\n",
            "{'_id': {'month': 5, 'year': 2017},\n",
            " 'total_delays': 1571,\n",
            " 'unique_routes_affected': 1103}\n",
            "\n",
            "\n",
            "{'_id': {'month': 2, 'year': 2017},\n",
            " 'total_delays': 1360,\n",
            " 'unique_routes_affected': 865}\n",
            "\n",
            "\n",
            "{'_id': {'month': 8, 'year': 2017},\n",
            " 'total_delays': 1300,\n",
            " 'unique_routes_affected': 986}\n",
            "\n",
            "\n",
            "{'_id': {'month': 9, 'year': 2017},\n",
            " 'total_delays': 1237,\n",
            " 'unique_routes_affected': 891}\n",
            "\n",
            "\n",
            "{'_id': {'month': 10, 'year': 2017},\n",
            " 'total_delays': 1237,\n",
            " 'unique_routes_affected': 889}\n",
            "\n",
            "\n",
            "{'_id': {'month': 5, 'year': 2018},\n",
            " 'total_delays': 1213,\n",
            " 'unique_routes_affected': 801}\n",
            "\n",
            "\n",
            "{'_id': {'month': 6, 'year': 2018},\n",
            " 'total_delays': 1177,\n",
            " 'unique_routes_affected': 850}\n",
            "\n",
            "\n",
            "{'_id': {'month': 4, 'year': 2017},\n",
            " 'total_delays': 1158,\n",
            " 'unique_routes_affected': 818}\n",
            "\n",
            "\n",
            "{'_id': {'month': 7, 'year': 2018},\n",
            " 'total_delays': 1148,\n",
            " 'unique_routes_affected': 832}\n",
            "\n",
            "\n",
            "{'_id': {'month': 11, 'year': 2017},\n",
            " 'total_delays': 1140,\n",
            " 'unique_routes_affected': 873}\n",
            "\n",
            "\n",
            "{'_id': {'month': 10, 'year': 2018},\n",
            " 'total_delays': 1076,\n",
            " 'unique_routes_affected': 792}\n",
            "\n",
            "\n",
            "{'_id': {'month': 8, 'year': 2018},\n",
            " 'total_delays': 1065,\n",
            " 'unique_routes_affected': 762}\n",
            "\n",
            "\n",
            "{'_id': {'month': 6, 'year': 2017},\n",
            " 'total_delays': 928,\n",
            " 'unique_routes_affected': 790}\n",
            "\n",
            "\n",
            "{'_id': {'month': 7, 'year': 2017},\n",
            " 'total_delays': 768,\n",
            " 'unique_routes_affected': 608}\n",
            "\n",
            "\n"
          ]
        }
      ],
      "source": [
        "# Import the necessary library for pretty printing\n",
        "from pprint import pprint\n",
        "\n",
        "# MongoDB aggregation pipeline to retrieve and process truck schedule details\n",
        "result = db.truck_schedule_details.aggregate([\n",
        "    {\n",
        "        \"$match\": {\n",
        "            \"delay\": \"1\"  # Match documents where the delay is equal to \"1\"\n",
        "        }\n",
        "    },\n",
        "    {\n",
        "        \"$group\": {\n",
        "            \"_id\": {\n",
        "                \"year\": {\"$year\": \"$date\"},  # Extract the year from the 'date' field\n",
        "                \"month\": {\"$month\": \"$date\"},  # Extract the month from the 'date' field\n",
        "                \"route\": \"$route_id\"  # Group by the 'route_id'\n",
        "            },\n",
        "            \"total_delays_route_wise\": {\"$count\": {}}  # Count the occurrences of delays for each route\n",
        "        }\n",
        "    },\n",
        "    {\n",
        "        \"$group\": {\n",
        "            \"_id\": {\n",
        "                \"year\": \"$_id.year\",\n",
        "                \"month\": \"$_id.month\"\n",
        "            },\n",
        "            \"total_delays\": {\"$sum\": \"$total_delays_route_wise\"},  # Sum the delays for each month and year\n",
        "            \"unique_routes_affected\": {\"$count\": {}}  # Count the number of unique routes affected\n",
        "        }\n",
        "    },\n",
        "    {\n",
        "        \"$sort\": {\"total_delays\": -1}  # Sort the results based on total delays in descending order\n",
        "    }\n",
        "])\n",
        "\n",
        "# Iterate through the aggregation results and print them\n",
        "for i in result:\n",
        "    pprint(i)\n",
        "    print(\"\\n\")\n"
      ]
    },
    {
      "cell_type": "code",
      "execution_count": null,
      "metadata": {
        "id": "IT5tx496pN8a"
      },
      "outputs": [],
      "source": []
    }
  ],
  "metadata": {
    "colab": {
      "provenance": []
    },
    "kernelspec": {
      "display_name": "Python 3",
      "name": "python3"
    },
    "language_info": {
      "name": "python"
    }
  },
  "nbformat": 4,
  "nbformat_minor": 0
}
